{
 "cells": [
  {
   "cell_type": "markdown",
   "metadata": {},
   "source": [
    "<h1><center>Evidence For Dark Matter</center></h1>\n",
    "\n",
    "In this lab we looking at the relationship between the density profile of galaxies and their velocity rotation curves. In addition, we will be determining the dark matter density of the famous <a href = \"https://en.wikipedia.org/wiki/Triangulum_Galaxy\">Messier 33 galaxy</a>."
   ]
  },
  {
   "cell_type": "markdown",
   "metadata": {},
   "source": [
    "<h2>1) Galaxy Rotation Curves</h2>\n",
    "\n",
    "Derive from first principles (Newtonian gravity) and plot the expected orbital velocity\n",
    "profiles (orbital velocity versus radius) for stars in a galaxy, assuming a circular orbit,\n",
    "and the following density profiles:\n",
    "\n",
    " <ul>\n",
    "  <li>Constant density <br/>\n",
    "      &emsp;&emsp;$\\rho(r<R_0)=\\rho_0$</li>\n",
    "  <li>Density which decreases as <br/>\n",
    "      &emsp;&emsp;$\\rho(r)=\\frac{\\rho_0}{(1+(r/R_0)^2)}$ </li>\n",
    "  <li>Density which decreases as <br/>\n",
    "      &emsp;&emsp;$\\rho(r)=\\frac{\\rho_0}{(r/R_s)(1+(r/R_s))^2}$</li>\n",
    "</ul> \n",
    "\n",
    "and plot the results."
   ]
  },
  {
   "cell_type": "markdown",
   "metadata": {},
   "source": [
    "<i>(Write out solutions here using standard Latex commands or attach hand written solutions)</i>\n",
    "\n",
    "<i>Example:</i>\n",
    "\n",
    "```latex\n",
    "\\begin{equation}\n",
    "    F_{\\mathrm{circ}} = \\frac{v^2m}{r}\n",
    "\\end{equation}\n",
    "```\n",
    "\n",
    "<i>gives:</i>\n",
    "\n",
    "\\begin{equation}\n",
    "    F_{\\mathrm{circ}} = \\frac{v^2m}{r}\n",
    "\\end{equation}"
   ]
  },
  {
   "cell_type": "code",
   "execution_count": 1,
   "metadata": {},
   "outputs": [],
   "source": [
    "# Complete the code\n",
    "\n",
    "import numpy as np\n",
    "import matplotlib.pyplot as plt\n",
    "\n",
    "r = 0\n",
    "v1 = 0\n",
    "v2 = 0\n",
    "v3 = 0\n",
    "\n",
    "plt.plot(r, v1,label = \"Top hat\",lw = 2)\n",
    "plt.plot(r, v2,label = \"Cored powerlaw\",lw = 2)\n",
    "plt.plot(r, v3,label = \"NFW\",lw = 2)\n",
    "\n",
    "plt.xlabel(\"\")\n",
    "plt.ylabel(\"\")\n",
    "\n",
    "plt.legend();"
   ]
  },
  {
   "cell_type": "markdown",
   "metadata": {},
   "source": [
    "<h2>2) Fitting the rotational velocity</h2>\n",
    "\n",
    "In this task we will use rotational velocity data to fit the parameters of different density profiles."
   ]
  },
  {
   "cell_type": "markdown",
   "metadata": {},
   "source": [
    "3. The data for the velocity rotation curve of Messier 33 is given below. \n",
    "\n",
    "```python\n",
    "# Radius (kpc)\n",
    "radius = np.array([0.5, 1.0, 1.5, 2.0, 2.4, 2.9, 3.4, 3.9, 4.4, 4.9, 5.4, 5.9,\n",
    "         6.4, 6.8, 7.3, 7.8, 8.3, 8.8, 9.3, 9.8, 10.3, 10.8, 11.2, 11.7])\n",
    "\n",
    "# Rotational Velocity (km/s)\n",
    "velocity = np.array([42.0, 58.8, 69.4, 79.3, 86.7, 91.4, 94.2, 96.5, 99.8, 102.1, 103.6,\n",
    "           105.9, 105.7, 106.8, 107.3, 108.3, 109.7, 112.0, 116.1, 117.2, 116.5, 115.7, 117.4, 116.8])\n",
    "```\n",
    "\n",
    "a. Plot the rotational velocity as a function of radius\n",
    "\n",
    "b. Use the scipy curve fitting tool to fit the velocity curves calculated for the cored power law and the NFW profiles. Which do you think looks like the best fit? \n",
    "\n",
    "c. Once the parameters $\\rho_0$ and $r_0$ are known for each model, plot both expected density profiles on a new graph. Make sure that this graph is plotted on a log-log scale so that the power-law behaviour can be seen. \n",
    "\n",
    "<i>data source: https://iopscience.iop.org/article/10.3847/1538-3881/aa79f3</i><br/>\n",
    "<i>curve fitting tool: https://docs.scipy.org/doc/scipy/reference/generated/scipy.optimize.curve_fit.html</i>"
   ]
  },
  {
   "cell_type": "code",
   "execution_count": 8,
   "metadata": {},
   "outputs": [
    {
     "name": "stdout",
     "output_type": "stream",
     "text": [
      "values from fit:  [2.48528386 1.13987122 0.42157688]\n"
     ]
    },
    {
     "data": {
      "image/png": "[encoded data removed]",
      "text/plain": [
       "<Figure size 432x288 with 1 Axes>"
      ]
     },
     "metadata": {
      "needs_background": "light"
     },
     "output_type": "display_data"
    }
   ],
   "source": [
    "# Curve fit example (Replace this with your code)\n",
    "\n",
    "import numpy as np\n",
    "import matplotlib.pyplot as plt\n",
    "from scipy.optimize import curve_fit\n",
    "\n",
    "# Define your function: It must take the independent variable as the \n",
    "# first argument and the parameters to fit as separate remaining arguments\n",
    "def func(x, a, b, c):\n",
    "    return a * np.exp(-b * x) + c\n",
    "\n",
    "# Example data\n",
    "xdata = np.array([0.0, 0.211, 0.421, 0.632, 0.842, 1.05, 1.26, 1.47, 1.68, \n",
    "                  1.89, 2.11, 2.32, 2.53, 2.74, 2.95, 3.16, 3.37, 3.58, 3.79, 4.0])\n",
    "\n",
    "ydata = np.array([2.86, 2.24, 2.28, 1.48, 1.56, 1.32, 0.785, 0.696, 0.795, 0.819,\n",
    "              0.686, 0.578, 0.282, 0.582, 0.586, 0.114, 0.553, 0.612, 0.597, 0.564])\n",
    "\n",
    "# Plot the data\n",
    "plt.plot(xdata, ydata, 'k.', label='data')\n",
    "\n",
    "# Give the function and the data to curve_fit\n",
    "# p0 sets the initial guess for the fitting\n",
    "popt, pcov = curve_fit(func, xdata, ydata, p0 = (2, 1, 0))\n",
    "\n",
    "# popt now contains the fitted parameters\n",
    "print(\"values from fit: \",popt)\n",
    "\n",
    "plt.plot(xdata, func(xdata, popt[0], popt[1], popt[2]), 'r-',\n",
    "         label='fit: a=%5.3f, b=%5.3f, c=%5.3f' % tuple(popt))\n",
    "\n",
    "plt.xlabel('x');\n",
    "plt.ylabel('y');\n",
    "plt.legend();\n",
    "plt.show()"
   ]
  },
  {
   "cell_type": "code",
   "execution_count": null,
   "metadata": {},
   "outputs": [],
   "source": []
  }
 ],
 "metadata": {
  "kernelspec": {
   "display_name": "Python 3 (ipykernel)",
   "language": "python",
   "name": "python3"
  },
  "language_info": {
   "codemirror_mode": {
    "name": "ipython",
    "version": 3
   },
   "file_extension": ".py",
   "mimetype": "text/x-python",
   "name": "python",
   "nbconvert_exporter": "python",
   "pygments_lexer": "ipython3",
   "version": "3.9.12"
  }
 },
 "nbformat": 4,
 "nbformat_minor": 4
}
