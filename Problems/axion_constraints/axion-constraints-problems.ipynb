{
 "cells": [
  {
   "cell_type": "markdown",
   "metadata": {},
   "source": [
    "<h1><center>Axion-photon coupling constraints</center></h1>\n",
    "\n",
    "In this problem sheet we will be using what we learned in Chapters 14 and 15 to calculatethe some of the most important constraints on the axion-photon coupling."
   ]
  },
  {
   "cell_type": "markdown",
   "metadata": {},
   "source": [
    "## 1) Calculating QCD reference values\n",
    "\n",
    "We will start by calculating the standard estimate for expected range of the QCD's coupling to the photon. As seen in lecture 16, this is given by\n",
    "\n",
    "\\begin{equation}\n",
    "g_{a \\gamma} \\equiv \\frac{\\alpha}{2 \\pi} \\frac{C_{a\\gamma}}{f_{a}}=2.0 \\times 10^{-16} C_{a \\gamma} \\frac{m_{a}}{\\mu \\mathrm{eV}} \\mathrm{GeV}^{-1}\n",
    "\\end{equation}\n",
    "\n",
    "with a dependent constant:\n",
    "\\begin{equation}\n",
    "C_{a\\gamma} \\equiv \\frac{E}{N} - 1.92(4) = \n",
    "\\begin{cases}\n",
    "  0.75, & {\\rm KSVZ} \\\\\n",
    "  -1.25, & {\\rm DFSZ\\,I} \\\\\n",
    "  -1.92, & {\\rm DFSZ\\,II}\n",
    "\\end{cases}\n",
    "\\end{equation}\n",
    "\n",
    "**1.1** Write a function to calculate $g_{a\\gamma}$ as a function of $m_a$ and $C_{a\\gamma}$\n",
    "\n",
    "**1.2** Hence plot the axion-photon coupling as a function of mass for KSVZ and DFSZ II."
   ]
  },
  {
   "cell_type": "code",
   "execution_count": null,
   "metadata": {},
   "outputs": [],
   "source": [
    "# Calculate predicted QCD axion region\n",
    "def g_QCD():\n",
    "    return 0\n",
    "    \n",
    "m_a = np.logspace()\n",
    "\n",
    "# plot predicted region\n",
    "plt.loglog(m_a, abs(g_QCD()))\n",
    "plt.loglog(m_a, abs(g_QCD()))\n",
    "\n",
    "plt.ylabel(\"$|g_{a\\gamma}|$ [GeV$^{-1}$]\")\n",
    "plt.xlabel(\"Axion mass, $m_a$ [eV]\")"
   ]
  },
  {
   "cell_type": "markdown",
   "metadata": {},
   "source": [
    "## 2) ADMX\n",
    "\n",
    "We will now extend what we did in problem set 6 to calculate the expected constraints from a three different campaigns by ADMX. \n",
    "\n",
    "Recall that the power of such a cavity is given by\n",
    "\n",
    "\\begin{equation}\n",
    "    P_{a} = C\\frac{g_{a\\gamma}^2B^2V\\rho_{\\mathrm{DM}}}{m_a}Q\n",
    "\\end{equation}\n",
    "\n",
    "where $B$ is the magnetic field through the cavity, $V$, $Q$ and C are it's volume, quality factor and form factor respectively and $\\rho_{\\mathrm{DM}}$ is the local density of dark matter which ADMX take to be 0.45 GeV cm$^{-3}$.\n",
    "\n",
    "The signal to noise ratio is then given by the Dicke radiometer equation which, for a noise power given by $P_{\\mathrm{noise}} = T_{\\mathrm{sys}}\\Delta\\nu$, is given by\n",
    "\n",
    "\\begin{equation}\n",
    "    \\mathrm{SNR} = \\frac{P}{T_{\\mathrm{sys}}}\\sqrt{\\frac{t}{\\Delta \\nu}}\n",
    "\\end{equation}\n",
    "\n",
    "where $T_{\\mathrm{sys}}$ is the system temperature.\n",
    "\n",
    "\n",
    "**2.1** Write a function to calculate the power of the cavity in watts as a function of axion mass and the various cavity parameters\n",
    "\n",
    "**2.2** Use this to write an additional function for calculating the signal-to-noise ratio as a function of the same inputs plus the bandwidth and system temperature.\n",
    "\n",
    "*Hint 1: As always, be careful with the units. You can use the fact that $1$eV$^2 = 1.44 \\times 10^{-3}$T.*\n",
    "    \n",
    "*Hint 2: See <a href=\"http://ilan.schnell-web.net/physics/natural.pdf\">here</a> for other useful conversions.*"
   ]
  },
  {
   "cell_type": "code",
   "execution_count": null,
   "metadata": {},
   "outputs": [],
   "source": [
    "def cavity_power():\n",
    "    return 0\n",
    "\n",
    "def SNR():\n",
    "    return 0"
   ]
  },
  {
   "cell_type": "markdown",
   "metadata": {},
   "source": [
    "We will consider three different ADMX campaigns\n",
    "\n",
    "#### ADMX 2009 \n",
    "- $m_a \\in \\{1.93, 3.64\\} \\mu$eV\n",
    "- $V = 136$ liters\n",
    "- $B = 6.8 $ T\n",
    "- $Q \\sim 30000$\n",
    "- $\\Delta \\nu = 30 $ Hz\n",
    "- $T_{\\mathrm{sys}} = 30$ K\n",
    "- $C \\sim 0.69$\n",
    "- 80 seconds at each frequency\n",
    "- arXiv: https://arxiv.org/pdf/0910.5914.pdf\n",
    "\n",
    "#### ADMX 2018 \n",
    "- $m_a \\in \\{2.66, 2.81\\} \\mu$eV\n",
    "- $V = 136$ liters\n",
    "- $B = 6.8 $ T\n",
    "- $Q \\sim 50000$\n",
    "- $\\Delta \\nu = 25 $ Hz\n",
    "- $T_{\\mathrm{sys}} = 350$ mK\n",
    "- $C \\sim 0.4$\n",
    "- 100 seconds at each frequency\n",
    "- arXiv: https://arxiv.org/pdf/1804.05750.pdf\n",
    "\n",
    "#### ADMX 2019\n",
    "- $m_a \\in \\{2.81, 3.31\\} \\mu$eV\n",
    "- $V = 136$ liters\n",
    "- $B = 7.6 $ T\n",
    "- $Q \\sim 50000$\n",
    "- $\\Delta \\nu = 25 $ Hz\n",
    "- $T_{\\mathrm{sys}} = 350$ mK\n",
    "- $C \\sim 0.4$\n",
    "- 100 seconds at each frequency\n",
    "- arXiv: https://arxiv.org/pdf/1910.08638.pdf\n",
    "\n",
    "Given that none of these experiments detected the axion, we can put a constraint on the axion-photon coupling by finding $g_{a\\gamma}$ such that SNR=3.\n",
    "\n",
    "**2.3** Use <a href=\"https://docs.scipy.org/doc/scipy/reference/generated/scipy.optimize.root.html\">scipy.optimize.root</a> or otherwise to find $g_{a\\gamma}$ such that SNR=3 as a function of axion mass for each of the experiments outlined above.\n",
    "\n",
    "**2.4** Plot these constraints along with the QCD reference value calculated above."
   ]
  },
  {
   "cell_type": "code",
   "execution_count": null,
   "metadata": {},
   "outputs": [],
   "source": [
    "def constrain(0):\n",
    "    return 0\n",
    "\n",
    "masses = 0\n",
    "\n",
    "# Calculate constraints\n",
    "g_ADMX2009 = 0\n",
    "g_ADMX2018 = 0\n",
    "g_ADMX2019 = 0\n",
    "\n",
    "# Plot ADMX 2009\n",
    "plt.loglog(masses, g_ADMX2009)\n",
    "\n",
    "# Plot ADMX 2019\n",
    "plt.loglog(masses, g_ADMX2018)\n",
    "\n",
    "# Plot ADMX 2019\n",
    "plt.loglog(masses, g_ADMX2019)\n",
    "\n",
    "# plot predicted QCD region\n",
    "plt.loglog(m_a, abs(g_QCD()))\n",
    "plt.loglog(m_a, abs(g_QCD()))\n"
   ]
  },
  {
   "cell_type": "markdown",
   "metadata": {},
   "source": [
    "## 3) Horizontal Branch Stars\n",
    "\n",
    "As discussed in Chapter 15.3, axions coupled to photons would significantly reduce the lifetime of stars in the horizontal branch (HB) stars. However they would produce negligible changes on the evolution of red giant branch (RGB) stars. As such, the axion-photon coupling can be constrained by measurements of \"the R parameter\" which is the ratio of HB stars to RGB stars:\n",
    "\\begin{equation}\n",
    "    R = N_{\\mathrm{HB}}/N_{\\mathrm{RGB}}.\n",
    "\\end{equation}\n",
    "\n",
    "The impact of this coupling has to be calculated numerically, however these results are well described by the relation\n",
    "\n",
    "\\begin{equation}\n",
    "    R_{pred} = 6.26Y - 0.41g_{10}^2-0.12\n",
    "\\end{equation}\n",
    "\n",
    "where $Y$ is the Helium abundance, $g_{10} ≡ g_{aγ}/10^{−10}$ GeV$^{−1}$.\n",
    "\n",
    "The Helium abundance and R-parameter are measured to be $Y_{\\mathrm{obs}}=0.2535±0.0036$ and $R_{\\mathrm{obs}} = 1.39±0.04$ respectively, where the errors shown are the $68\\%$ confidence limits. See [Ayala et. al](https://arxiv.org/pdf/1406.6053.pdf) for more information.\n",
    "\n",
    "**3.1** Write a fuction to calculate $R$ as a function of $g_{a\\gamma}$ and $Y$.\n",
    "\n",
    "**3.2** Hence create a <a href =\"https://matplotlib.org/3.2.0/api/_as_gen/matplotlib.pyplot.contourf.html\">contourf plot</a> (or similar) showing $R$ over some range of $g_{a\\gamma}$ and $Y$.\n",
    "\n",
    "**3.3** Add lines which indicate where the R parameter is equal to the observed value as well as the $68\\%$ upper and lower limits.\n",
    "\n",
    "**3.4** Add three more lines showing the observed value of $Y$ along with the upper and lower limits.\n",
    "\n",
    "**3.5** For the QCD axion, we can calculate the axion-photon coupling as a function of the axion mass. Therefore, this upper limit on $g_{a\\gamma}$ relates to an upper limit on the axion mass. What is this upper limit for $C_{a\\gamma} = \\mathcal{O}(1)$?\n",
    "\n",
    "*Hint: An example of how to plot specific contour values is shown in the both solution sheets for the second lab.*"
   ]
  },
  {
   "cell_type": "code",
   "execution_count": null,
   "metadata": {},
   "outputs": [],
   "source": [
    "def R_param():\n",
    "    return 0\n",
    "\n",
    "y = np.linspace()\n",
    "gap = np.linspace()\n",
    "\n",
    "R = 0\n",
    "\n",
    "CS = plt.contourf(y, gap, R)\n",
    "cbar = plt.colorbar()\n",
    "\n",
    "# Find favoured coupling constant\n",
    "def find_g():\n",
    "    return 0\n",
    "\n",
    "g_HB = 0\n",
    "g_HB_lower = 0\n",
    "g_HB_upper = 0"
   ]
  },
  {
   "cell_type": "markdown",
   "metadata": {},
   "source": [
    "## 4) CAST\n",
    "\n",
    "We saw in Yoni Kahn's lecture on modern directions in axion detection that there is a mixing between the axion and the photon. For a homogenious magnetic field $B$, in the absence of a plasma frequency, the probablility of conversion from an axion to photon (or visa-versa) is given by\n",
    "\n",
    "\\begin{equation}\n",
    "    P_{a\\gamma} = \\left(g_{a\\gamma}B \\frac{\\sin(qL/2)}{q} \\right)^2\n",
    "\\end{equation}\n",
    "\n",
    "where $q = \\frac{m_a^2}{2E}$ is the axion-photon momentum transfer in a vacuum in which we expect $E\\sim \\mathrm{O}(\\mathrm{keV})$.\n",
    "\n",
    "We also saw in lecture 17 that we expect axions to be produced in the sun via this same mixing with photons.\n",
    "\n",
    "In the CAST experiment a 9T magnetic field over a distance of 9.26m in an attempt to convert these solar axions into X-ray photons in their two \"conversion pipes\", each with a cross sectional area of 14.5 cm$^2$. See [the CAST paper](https://arxiv.org/pdf/1705.02290.pdf) for more information.\n",
    " \n",
    "**4.1** Write a function to calculate the probability of axion-photon conversion as a function the mass, coupling strength, magnetic field strength and axion energy.\n",
    "\n",
    "**4.2** Hence calulate and plot this probability as a function of axion mass for coupling strengths of $10^{-9}$, $10^{-11}$ and $10^{-12}$ GeV$^{-1}$.\n",
    "\n",
    "**4.3** You should see that the probability begins to decreases at masses around 0.01 eV. Why does this happen?\n",
    "\n",
    "*Hint: As always, be careful with units. For low axion masses, you should expect probabilities of $\\sim 10^{-17} - 10^{-13}$.*"
   ]
  },
  {
   "cell_type": "code",
   "execution_count": null,
   "metadata": {},
   "outputs": [],
   "source": [
    "def conv_prob():\n",
    "       return 0\n",
    "\n",
    "for g_ap in [1e-9, 1e-10, 1e-11]: \n",
    "    prob = 0\n",
    "    plt.loglog()\n",
    "\n",
    "plt.ylabel(\"$P_{a\\gamma}$\")\n",
    "plt.xlabel(\"Axion mass, $m_a$ [eV]\")"
   ]
  },
  {
   "cell_type": "markdown",
   "metadata": {},
   "source": [
    "Assume that the flux of axions incident on the CAST coversion tubes is $\\phi_a \\sim 10^{10}$ s$^{-1}$ with energies of $E\\sim \\mathcal{O}(\\mathrm{keV})$.\n",
    "\n",
    "**4.4** Given that the CAST experiment has a total exposure of 1132.6 hours, calculate the number of photons they would expect to see in their detector for the three coupling strengths considered above.\n",
    "\n",
    "**4.5** Plot these numbers as a function of axion mass"
   ]
  },
  {
   "cell_type": "code",
   "execution_count": null,
   "metadata": {},
   "outputs": [],
   "source": [
    "def expected_photons():\n",
    "    return 0\n",
    "\n",
    "for g_ap in [1e-9, 1e-10, 1e-11]: \n",
    "    num_photons = 0\n",
    "    plt.loglog()\n",
    "\n",
    "plt.ylabel(\"$N_{\\gamma, \\mathrm{det}}$\")\n",
    "plt.xlabel(\"Axion mass, $m_a$ [eV]\")\n",
    "plt.legend()"
   ]
  },
  {
   "cell_type": "markdown",
   "metadata": {},
   "source": [
    "Like ADMX, the CAST collaboration has not yet detected a signal from solar axions allowing us to place constraints on the axion parameter space.\n",
    "\n",
    "**4.6** Use <a href=\"https://docs.scipy.org/doc/scipy/reference/generated/scipy.optimize.root.html\">scipy.optimize.root</a> one last time to calculte $g_{a\\gamma}$ such that the number of expected photons detected is 3. \n",
    "\n",
    "**4.7** Hence plot this constraint on $g_{a\\gamma}$ as a function of axion mass."
   ]
  },
  {
   "cell_type": "code",
   "execution_count": null,
   "metadata": {},
   "outputs": [],
   "source": [
    "def cast_constraint():\n",
    "    return 0\n",
    "\n",
    "g_cast = 0\n",
    "\n",
    "plt.loglog(masses, g_cast)\n",
    "\n",
    "plt.ylabel(\"$|g_{a\\gamma}|$ [GeV$^{-1}$]\")\n",
    "plt.xlabel(\"Axion mass, $m_a$ [eV]\")"
   ]
  },
  {
   "cell_type": "markdown",
   "metadata": {},
   "source": [
    "### 5) Pulling it all together\n",
    "\n",
    "**5.1** Collect together all of your constraints into one final plot over some appropriate mass range.\n",
    "\n",
    "*Hint: You can use <a href=\"https://matplotlib.org/3.2.1/api/_as_gen/matplotlib.pyplot.fill_between.html\"> matplotlib.pyplot.fill_between</a> to show where the regions is disallowed by each calculation.*"
   ]
  },
  {
   "cell_type": "code",
   "execution_count": null,
   "metadata": {},
   "outputs": [],
   "source": []
  }
 ],
 "metadata": {
  "kernelspec": {
   "display_name": "Python 3",
   "language": "python",
   "name": "python3"
  },
  "language_info": {
   "codemirror_mode": {
    "name": "ipython",
    "version": 3
   },
   "file_extension": ".py",
   "mimetype": "text/x-python",
   "name": "python",
   "nbconvert_exporter": "python",
   "pygments_lexer": "ipython3",
   "version": "3.8.8"
  }
 },
 "nbformat": 4,
 "nbformat_minor": 4
}
