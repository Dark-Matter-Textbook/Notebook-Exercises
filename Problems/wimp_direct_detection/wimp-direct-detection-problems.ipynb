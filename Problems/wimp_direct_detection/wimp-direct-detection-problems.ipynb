{
 "cells": [
  {
   "cell_type": "markdown",
   "metadata": {},
   "source": [
    "<h1><center> WIMP Direct Detection</center></h1>\n",
    "\n",
    "In this lab we will be using what we learned in Section 3.1 to calculatethe the expected number of recoil events for a WIMP direct detection experiment and hence generate constraints on the spin independent WIMP-nucleon cross-section $\\sigma_{\\mathrm{p,SI}}$.\n",
    "\n",
    "A lot of the equation we use in this lab sheet are explained in more detail in: <a href=\"https://arxiv.org/abs/1209.3339\">Annual Modulation of Dark Matter: A Review</a> by Katherine Freese</li>."
   ]
  },
  {
   "cell_type": "code",
   "execution_count": 2,
   "metadata": {},
   "outputs": [],
   "source": [
    "import matplotlib.pyplot as plt\n",
    "import numpy as np"
   ]
  },
  {
   "cell_type": "markdown",
   "metadata": {},
   "source": [
    "We have seen that the differential rate of collision events per unit of detector mass is given by\n",
    "\n",
    "\\begin{equation}\n",
    "    \\frac{\\mathrm{d}R}{\\mathrm{d}E_{nr}} = \\frac{1}{2m_{N}}\\frac{\\rho_{\\chi}}{m_{\\chi}}\\left\\langle v \\frac{\\mathrm{d}\\sigma}{\\mathrm{d}E_{nr}} \\right\\rangle.\n",
    "\\end{equation}\n",
    "\n",
    "Assuming that the collisions are elastic, this can be rewritten as\n",
    "\n",
    "\\begin{equation}\n",
    "    \\frac{\\mathrm{d}R}{\\mathrm{d}E_{nr}} = \\frac{1}{2m_{\\chi}\\mu^2}\\sigma(q)\\rho_{\\chi}\\eta\\left(v_{min}(E_{nr}, t)\\right)\n",
    "\\end{equation}\n",
    "\n",
    "where $\\mu = \\frac{m_{\\chi}m_{N}}{(m_{\\chi} + m_N)}$ is the WIMP-nucleus reduced mass and $\\eta\\left(v_{min}(E_{nr}, t)\\right)$ is the mean inverse speed. The mean inverse speed is given by the inverse velocity integral over the dark\n",
    "matter distribution $f(v,t)$."
   ]
  },
  {
   "cell_type": "markdown",
   "metadata": {},
   "source": [
    "## Calculating the mean-inverse speed pt 1\n",
    "\n",
    "Fortunately there are a number of analytical solutions for the mean inverse speed which allow us to avoid any nasty integrals. The simplest of which is a Maxwellian distribution with $v_{esc} = \\infty$:\n",
    "\n",
    "\\begin{equation}\n",
    "    \\eta(v_{min}, t) = \\frac{1}{2v_{obs}}\\left[\\mathrm{erf}(x+y)-\\mathrm{erf}(x-y)\\right]\n",
    "\\end{equation}\n",
    "\n",
    "where $x=v_{min}/v_0$ and $y = v_{obs}/v_0$. Here, $v_{min}$ is the minimum WIMP velocity which can preduce a recoil above the threshold $E_{nr}$, $v_0$ is the average WIMP velocity (given by the speed at which the sun orbits the Galaxy) and $v_{obs}$ is the observed WIMP velocity. \n",
    "\n",
    "<h4>Tasks:</h4>\n",
    "<ul>\n",
    "    <li>Find out the average speed of at which the Sun orbits the center of the galaxy.</li> \n",
    "    <li>Write a function to calculate $\\eta$ and plot a curve of $\\eta$ as a function of $v_{min}$</li>      \n",
    "</ul>\n",
    "\n",
    "<i><h4>Hints:</h4>\n",
    "<ul>\n",
    "    <li>Since we are not considering any annual/daily modulation in the WIMP velocity we can simply set $v_{obs} = v_0$.</li>\n",
    "</ul></i>"
   ]
  },
  {
   "cell_type": "code",
   "execution_count": 3,
   "metadata": {},
   "outputs": [
    {
     "data": {
      "image/png": "[encoded data removed]",
      "text/plain": [
       "<Figure size 432x288 with 1 Axes>"
      ]
     },
     "metadata": {
      "needs_background": "light"
     },
     "output_type": "display_data"
    }
   ],
   "source": [
    "def meanInvSpeed(vobs, vmin, v0):\n",
    "    return 0\n",
    "\n",
    "plt.plot()\n",
    "plt.show()"
   ]
  },
  {
   "cell_type": "markdown",
   "metadata": {},
   "source": [
    "## Cross section\n",
    "\n",
    "We can write our scattering cross-section as the product of the scattering cross-section in\n",
    "the zero-momentum-transfer limit $\\sigma_0$, and some momentum dependent form-factor $F^2(q)$  to account for the finite size of the nucleus:\n",
    "\n",
    "\\begin{equation}\n",
    "    \\sigma(q) = \\sigma_0 F^2(q).\n",
    "\\end{equation}\n",
    "\n",
    "We can then seperate $\\sigma_0$ into it's spin dependent and independent components\n",
    "\n",
    "\\begin{equation}\n",
    "    \\sigma_0 = \\sigma_{\\mathrm{SI}} + \\sigma_{\\mathrm{SD}}\n",
    "\\end{equation}\n",
    "\n",
    "It is then possible to write \n",
    "\n",
    "\\begin{equation}\n",
    "    \\sigma_{\\mathrm{SI}} \\approx \\frac{\\mu^2}{\\mu_p^2}A^2\\sigma_{\\mathrm{p,SI}},\n",
    "\\end{equation}\n",
    "\n",
    "where $\\sigma_{\\mathrm{p,SI}}$ is the spin independent WIMP-proton cross-section and $\\mu_p$ is the WIMP-proton reduced mass.\n",
    "\n",
    "For heavy detector nuclei $\\mu^2/\\mu_p^2 \\approx A^2$. Therefore, the spin independent cross section effectively scales as $A^4$. The same is not true for spin dependent interactions. This is one of the reasons why the spin independent term often dominates over the spin dependent term. We will therefore simply assume $\\sigma_0=\\sigma_{\\mathrm{SI}}$.\n",
    "\n",
    "The spin independent form factor is essentially a Fourier transform of the mass distribution of the nucleus. There are a number of possible form-factors one can use. One of the most commonly used, and the one we will use in this lab, is the <b>Helm form-factor</b>.\n",
    "\n",
    "<h4>Tasks:</h4>\n",
    "<ul>\n",
    "    <li> Look up how the Helm form-factor is defined in: <a href=\"https://arxiv.org/abs/hep-ph/0608035\">Model Independent Form Factors for Spin Independent Neutralino-Nucleon\n",
    "Scattering from Elastic Electron Scattering Data</a>.</li>      \n",
    "    <li> Use this to write a function which returns the form factor as a function of the recoil energy. This function should also take $A$ as an input to allow for different detector materials.</li>   \n",
    "    <li> Plot this form-factor as a function of recoil energy $E_{nr}$ for detector nuclei composed of three different materials used for WIMP detection of your choice.</li>\n",
    "</ul>\n",
    "\n",
    "<i> <h4>Hints:</h4>\n",
    "<ul>\n",
    "    <li>The equation for the form-factor is given in terms of the momentum transfer $q$. You will therefore first have to determine how this is related to the recoil energy $E_{nr}$.</li>\n",
    "    <li>Be careful with the units!</li>    \n",
    "</ul></i>"
   ]
  },
  {
   "cell_type": "code",
   "execution_count": 21,
   "metadata": {},
   "outputs": [
    {
     "data": {
      "image/png": "[encoded data removed]",
      "text/plain": [
       "<Figure size 432x288 with 1 Axes>"
      ]
     },
     "metadata": {
      "needs_background": "light"
     },
     "output_type": "display_data"
    }
   ],
   "source": [
    "def HelmFF():\n",
    "    return 0\n",
    "\n",
    "plt.plot()\n",
    "plt.show()"
   ]
  },
  {
   "cell_type": "markdown",
   "metadata": {},
   "source": [
    "## Differential Detection Rate\n",
    "\n",
    "Now that we have $\\eta(v_{min})$ and $\\sigma(q)$ we can calculate $\\frac{\\mathrm{d}R}{\\mathrm{d}E_{nr}}$.\n",
    "\n",
    "<h4>Tasks:</h4>\n",
    "<ul>\n",
    "    <li>Write a function for $\\frac{\\mathrm{d}R}{\\mathrm{d}E_{nr}}$ which uses your functions for mean inverse speed and form-factor to calculate the differential rate of collision events per unit of detector mass. This function should take the WIMP mass $m_{\\chi}$, the target atomic mass $A$, the SI WIMP-proton cross-section $\\sigma_{\\mathrm{p,SI}}$ and the recoil energy $E_{nr}$ as inputs.</li>      \n",
    "    <li>Use this to plot $\\frac{\\mathrm{d}R}{\\mathrm{d}E_{nr}}$ as a function of $E_{nr}$ for some detector material of your choice for three different WIMP masses $\\sim 100$GeV.</li>\n",
    "    <li>Plot $\\frac{\\mathrm{d}R}{\\mathrm{d}E_{nr}}$ as a function of $E_{nr}$ for $m_{\\chi} = 100$ GeV for three different detector materials.</li>  \n",
    "</ul>\n",
    "\n",
    "<i> <h4>Hints:</h4>\n",
    "<ul>\n",
    "    <li>Seriously, be careful with the units.</li>\n",
    "</ul></i>"
   ]
  },
  {
   "cell_type": "code",
   "execution_count": 4,
   "metadata": {},
   "outputs": [],
   "source": [
    "def diffCrossSec():\n",
    "    return 0\n",
    "\n",
    "# dR/dE for different WIMP masses\n",
    "plt.plot()\n",
    "plt.show()\n",
    "\n",
    "### dR/dE for different detector masses\n",
    "plt.plot()\n",
    "plt.show()"
   ]
  },
  {
   "cell_type": "markdown",
   "metadata": {},
   "source": [
    "## Calculating expected number of recoil events\n",
    "\n",
    "Expected number of events is given by integrating over the detectable range of recoil energies. Assuming perfect experimental efficiency in over this range of energyies, the number of expected recoil events is given by\n",
    "\n",
    "\\begin{equation}\n",
    "   n(\\sigma_{p, SI}) = M_TTR = M_TT\\int_{\\min{E_{nr}}}^{\\max{E_{nr}}}{\\frac{dR}{dE_{nr}}(\\sigma_{p, SI})dE_{nr}}\n",
    "\\end{equation}\n",
    "\n",
    "where $M_T$ is the total detector mass and $T$ is the total detection time.\n",
    "\n",
    "\n",
    "\n",
    "<h4>Tasks:</h4>\n",
    "<ul>\n",
    "    <li>Write a function for which numerically integrates the equation above to calculate the number of recoil events we would expect to see for a detector with atomic mass $A$, total mass $M_T$, total detection time $T$ with some detectable range of recoil energies as a function of $M_{\\chi}$ and $\\sigma_{\\mathrm{p,SI}}$.</li>      \n",
    "    <li> We saw that the current best contraints of WIMPs from direct detection come from the XENON1T experiment. Look up the relevent values in their results paper: <a href=\"https://arxiv.org/abs/1805.12562\">Dark Matter Search Results from a One Tonne × Year Exposure of XENON1T</a> </li>\n",
    "    <li> Hence calculate the number of events XENON1T would expect to see as a function of WIMP mass if the WIMP-proton cross section was $10^{-45}$ cm$^2$.\n",
    "</ul>\n",
    "\n",
    "<i> <h4>Hints:</h4>\n",
    "<ul>\n",
    "    <li>The number of expected events should peak at $\\sim 10^2$.</li>\n",
    "    <li>Something about units.</li>\n",
    "</ul></i>"
   ]
  },
  {
   "cell_type": "code",
   "execution_count": 20,
   "metadata": {},
   "outputs": [
    {
     "data": {
      "image/png": "[encoded data removed]",
      "text/plain": [
       "<Figure size 432x288 with 1 Axes>"
      ]
     },
     "metadata": {
      "needs_background": "light"
     },
     "output_type": "display_data"
    }
   ],
   "source": [
    "from scipy.integrate import trapz\n",
    "\n",
    "\n",
    "def signalCounts():\n",
    "    return 0\n",
    "\n",
    "plt.loglog()\n",
    "plt.show()"
   ]
  },
  {
   "cell_type": "markdown",
   "metadata": {},
   "source": [
    "## Constraining $\\sigma_{\\mathrm{p, SI}}$\n",
    "\n",
    "From Poisson statistics, the probability of k events happening in interval t is given by\n",
    "\n",
    "\\begin{equation}\n",
    "    P(\\text{k events in interval t}) = \\frac{(rt)^ke^{-rt}}{k!}\n",
    "\\end{equation}\n",
    "\n",
    "where $t$ is the interval and $r$ is the rate (such that $rt$ is the expected number of events $n$). Therefore, the probability of seeing zeros events given an expected number $n$ is simply given by\n",
    "\n",
    "\\begin{equation}\n",
    "    P(k=0|n) = e^{-n}\n",
    "\\end{equation}\n",
    "\n",
    "We can then make a (somewhat crude) constraint on $\\sigma_{\\mathrm{p, SI}}$ by setting $P = 0.1$. \n",
    "\n",
    "<h4>Tasks:</h4>\n",
    "\n",
    "<ul>\n",
    "    <li>Use scipy.optimize.root or similar to find $\\sigma_{\\mathrm{p, SI}}$ such that $P(k=0|n) = 0.1$ as a function of WIMP mass for the XENON1T case and plot the result</li> \n",
    "    <li>(Optional) Repeat this for $k>0$.</li>      \n",
    "</ul>\n",
    "</br></br></br>\n",
    "\n",
    "<i><h4>Hints:</h4>\n",
    "<ul>\n",
    "    <li>Take the log of both sides of our equation for $P(k=0|n)$</li> \n",
    "    <li><a href=\"https://en.wikipedia.org/wiki/UNIT\">United Nations Intelligence Taskforce</a> (s)</li>\n",
    "</ul></i>"
   ]
  },
  {
   "cell_type": "code",
   "execution_count": 9,
   "metadata": {},
   "outputs": [
    {
     "data": {
      "image/png": "[encoded data removed]",
      "text/plain": [
       "<Figure size 432x288 with 1 Axes>"
      ]
     },
     "metadata": {
      "needs_background": "light"
     },
     "output_type": "display_data"
    }
   ],
   "source": [
    "def constrain():\n",
    "    return 0\n",
    "\n",
    "plt.loglog()\n",
    "plt.show()"
   ]
  },
  {
   "cell_type": "markdown",
   "metadata": {},
   "source": [
    "## Calculating the mean-inverse speed - part 2\n",
    "\n",
    "The simplified model considered so far neglects the fact that dark matter with a speed above\n",
    "some escape velocity $v_{esc}$ will leave the galactic system and therefore not be detected. Through the study of the motion of high velocity stars, the escape velocity is found to be about\n",
    "544 km s$^{-1}$. This can be factored into the model simply by imposing that $\\tilde{f}(v>v_{esc}) = 0$. This however, produces a sharp discontinuity in the distribution at the escape velocity which is not characteristic of what we would expect to see. \n",
    "\n",
    "This transition in the distribution near the escape velocity can be improved by including an additional exponential term:\n",
    "\n",
    "\\begin{equation}\n",
    "    f(v) = \\left( \\frac{1}{\\pi v_0^2}  \\right)^{3/2}\\left[\\exp{\\left(\\frac{-v^2}{v_0^2}\\right)} - \\exp{\\left(\\frac{-v^2_{esc}}{v_0^2}\\right)}\\right].\n",
    "\\end{equation}\n",
    "\n",
    "Fortunately, the resulting mean inverse speed for this also has an analytical form given by\n",
    "\n",
    "\\begin{equation}\n",
    "    \\eta(v_{min}) = \n",
    "    \\begin{cases} \\frac{1}{v_{obs}}, &\\text{for } z < y, x < |y-z| \\\\\n",
    "                  \\frac{1}{2v_{obs}N_{esc}}\\left[\\mathrm{erf}(x+y) -\n",
    "         \\mathrm{erf}(x-y) -\\frac{4}{\\sqrt{\\pi}}\\left(1 - x^2 - \n",
    "         \\frac{1}{3}y^2 - z^2 \\right)ye^{-z^2} \\right] &\\text{for } z > y, x < |y-z| \\\\\n",
    "                   \\frac{1}{2v_{obs}N_{esc}}\\left[\\mathrm{erf}(z) -\n",
    "         \\mathrm{erf}(x-y) -\\frac{2}{\\sqrt{\\pi}}\\left(y + z - x- \\frac{1}{3} (y-2z-x)(y+z-x)^2\\right)e^{-z^2}  \\right] &\\text{for } |y-z|<x<y+z \\\\\n",
    "         0 &\\text{for } y+z<x \\\\\n",
    "\\end{cases}\n",
    "\\end{equation}\n",
    "\n",
    "where $x$ and $y$ are defined as before with $z = v_{esc}/v_0$ and where\n",
    "\n",
    "\\begin{equation}\n",
    "    N_{esc} = \\mathrm{erf}(z) - \\frac{2}{\\sqrt{\\pi}}z\\left(1 + \\frac{2}{3}z^2 \\right)e^{-z^2},\n",
    "\\end{equation}\n",
    "\n",
    "is a normalization factor.\n",
    "\n",
    "I have double checked that I've written this out correctly but please see Appendix B.1 of <a href=\"https://arxiv.org/abs/1209.3339\">Annual Modulation of Dark Matter: A Review</a> if you think there is a mistake (We use $\\beta=1$).\n",
    "\n",
    "<h4>Tasks:</h4>\n",
    "\n",
    "<ul>\n",
    "    <li>Write a new function for the mean inverse speed using the equation above.</li>  \n",
    "</ul>"
   ]
  },
  {
   "cell_type": "code",
   "execution_count": 8,
   "metadata": {},
   "outputs": [
    {
     "data": {
      "image/png": "[encoded data removed]",
      "text/plain": [
       "<Figure size 432x288 with 1 Axes>"
      ]
     },
     "metadata": {
      "needs_background": "light"
     },
     "output_type": "display_data"
    }
   ],
   "source": [
    "def meanInvSpeed2():\n",
    "    return 0\n",
    "        \n",
    "plt.plot()\n",
    "plt.show()"
   ]
  },
  {
   "cell_type": "markdown",
   "metadata": {},
   "source": [
    "## Experimental effciencies\n",
    "\n",
    "So far we have assumed that the experimental effciency is 1 within some finite range of recoil energies. However, we know this isn't quite true. The true effciency for XENON1T is shown in figure 1 of their  results paper.\n",
    "\n",
    "If we let $S(E_{nr})$ be the effciency, then we can modify our equation for the expected number of recoil events as follows\n",
    "\n",
    "\\begin{equation}\n",
    "   n(\\sigma_{p, SI}) = M_TTR = M_TT\\int_{\\min{E_{nr}}}^{\\max{E_{nr}}}S(E_{nr}){\\frac{dR}{dE_{nr}}(\\sigma_{p, SI})dE_{nr}}.\n",
    "\\end{equation}\n",
    "\n",
    "<h4>Tasks:</h4>\n",
    "\n",
    "<ul>\n",
    "    <li>Use a tool such as <a href = \"https://apps.automeris.io/wpd/\">WebPlotDigitizer</a> to <i>digitise</i> the effciency (solid black line) shown in figure 1 of the XENON1T paper.</li> \n",
    "    <li>Using a tool such as <a href = \"https://docs.scipy.org/doc/scipy/reference/generated/scipy.interpolate.interp1d.html#scipy.interpolate.interp1d\">scipy.interpolate.interp1d</a>, create a cubic spline for this data.</li> \n",
    "    <li>Check your spline by plotting it</li>\n",
    "    <li>Modify or write new functions to calculate the expected number of recoil events given this efficiency.</li> \n",
    "    <li>Hence, recalculate the constraints on $\\sigma_{\\mathrm{p, SI}}$ and plot as a function of WIMP mass.</li>\n",
    "</ul>\n",
    "\n"
   ]
  },
  {
   "cell_type": "code",
   "execution_count": 199,
   "metadata": {},
   "outputs": [],
   "source": [
    "def diffCrossSec2()\n",
    "    return 0\n",
    "\n",
    "def signalCounts2():\n",
    "    return 0\n",
    "\n",
    "def constrain2():\n",
    "    return 0\n"
   ]
  },
  {
   "cell_type": "code",
   "execution_count": 18,
   "metadata": {},
   "outputs": [],
   "source": [
    "from scipy.interpolate import interp1d\n",
    "\n",
    "# Digitise the data\n",
    "\n",
    "x = np.array([0,1])\n",
    "y = np.array([0,1])\n",
    "\n",
    "efficiency = interp1d(x, y)\n",
    "\n",
    "# Plot efficiency spline\n",
    "plt.plot()\n",
    "plt.show()"
   ]
  },
  {
   "cell_type": "code",
   "execution_count": null,
   "metadata": {},
   "outputs": [],
   "source": [
    "# Plot final constraint curve\n",
    "\n",
    "plt.plot()\n",
    "plt.show()"
   ]
  },
  {
   "cell_type": "markdown",
   "metadata": {},
   "source": [
    "## (Optional) Adding more constraint curves\n",
    "\n",
    "<h4>Tasks:</h4>\n",
    "\n",
    "<ul>\n",
    "    <li>Look up some more of the landmark results in WIMP direct detection.</li>\n",
    "    <li>Find the relevent values to calculate your own $\\sigma_{\\mathrm{p, SI}}$ constraint curve for each.</li>\n",
    "    <li>Plot all of these curves together to get something which starts to look like <a href=\"https://3c1703fe8d.site.internapcdn.net/newman/gfx/news/hires/2016/4-3knownsand3u.jpg\"> this</a>.\n",
    "</ul>\n",
    "\n",
    "## (Optional) Considering annual modulation\n",
    "\n",
    "<h4>Tasks:</h4>\n",
    "\n",
    "<ul>\n",
    "    <li>Read <a href=\"https://arxiv.org/abs/1209.3339\">Annual Modulation of Dark Matter: A Review</a> to see how $v_{obs}$ varies throughout the year.</li>\n",
    "    <li>Hence calculate how $\\frac{\\mathrm{d}R}{\\mathrm{d}E_{nr}}$ varies throughout the year.</li>\n",
    "</ul>\n",
    "\n",
    "## (Optional) Considering more interesting Velocity Distributions\n",
    "\n",
    "<h4>Tasks:</h4>\n",
    "\n",
    "<ul>\n",
    "    <li>Read appendix B.1 of <a href=\"https://arxiv.org/abs/1209.3339\">Annual Modulation of Dark Matter: A Review</a> find the mean-inverse speeds for cold flows or debris flow.</li>\n",
    "    <li> Calculate the total differential detection rate given that the total from standard halo model (SHM) and some flow is simply the sum:</li>\n",
    "</ul>\n",
    "\\begin{equation}\n",
    "    \\left(\\frac{\\mathrm{d}R}{\\mathrm{d}E_{nr}}\\right)_{total} = \\left(\\frac{\\mathrm{d}R}{\\mathrm{d}E_{nr}}\\right)_{SHM} + \\left(\\frac{\\mathrm{d}R}{\\mathrm{d}E_{nr}}\\right)_{flow}\n",
    "\\end{equation}\n",
    "\n",
    "<ul>\n",
    "    <li>Determine how the presence of such local DM structure would influence the expected number of recoil events.</li>\n",
    "</ul>"
   ]
  },
  {
   "cell_type": "code",
   "execution_count": null,
   "metadata": {},
   "outputs": [],
   "source": []
  }
 ],
 "metadata": {
  "kernelspec": {
   "display_name": "Python 3",
   "language": "python",
   "name": "python3"
  },
  "language_info": {
   "codemirror_mode": {
    "name": "ipython",
    "version": 3
   },
   "file_extension": ".py",
   "mimetype": "text/x-python",
   "name": "python",
   "nbconvert_exporter": "python",
   "pygments_lexer": "ipython3",
   "version": "3.8.8"
  }
 },
 "nbformat": 4,
 "nbformat_minor": 4
}
