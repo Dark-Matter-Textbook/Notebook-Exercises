{
 "cells": [
  {
   "cell_type": "markdown",
   "id": "491d29ab-ee46-410a-a18a-a5e540ca6f4a",
   "metadata": {},
   "source": [
    "<h1><center>PBH microlensing</center></h1>"
   ]
  },
  {
   "cell_type": "code",
   "execution_count": 11,
   "id": "ec633506-4f19-4c8d-9d9d-3b34df37f793",
   "metadata": {},
   "outputs": [],
   "source": [
    "import numpy as np\n",
    "import matplotlib.pyplot as plt\n",
    "import matplotlib"
   ]
  },
  {
   "cell_type": "markdown",
   "id": "7a6bcea7-df2f-46b5-b9ba-cec9057e865f",
   "metadata": {},
   "source": [
    "## 1) Density profile\n",
    "\n",
    "\n",
    "The HSC survey made observations of the Andromeda Galaxy (M31) which is 770 kpc away from the Earth with a galactic coordinate $\\{ l, b\\} = \\{121.2^{\\circ}, -21.6^{\\circ} \\}$.\n",
    "\n",
    "We need to model the density of both the Milky Way (MW) and M31. To do this we can use the NFW profile\n",
    "\n",
    "\\begin{equation}\n",
    "    \\rho_{\\mathrm{NFW}}(r) =  \\frac{\\rho_0}{\\frac{r}{r_s}\\left(1 + \\frac{r}{r_s}\\right)^2}.\n",
    "\\end{equation}\n",
    "\n",
    "where $\\rho_0$ and $r_s$ are the scale density and radius respectively. These values for the MW and M31 are as follows:\n",
    "\n",
    "|  |MW  | M31|\n",
    "--- | --- | ---\n",
    "|$\\frac{\\rho_0}{M_{\\odot} \\text{pc}^{-3}}$|4.88 x 10<sup>-3</sup>|4.96 x 10<sup>-3</sup>|\n",
    "|$\\frac{r_s}{\\text{pc}}$ |21.5x 10<sup>3</sup>|25  x 10<sup>3</sup>|\n",
    "\n",
    "Let $x D_s$ be the distance from the observer on Earth to some point along the path to M31 (at a distance of $D_s$ away) where $x \\in \\{0, 1\\}$.\n",
    "\n",
    "**1.1** Calculate the galactic radius at point $x$ along this path. (<i>Hint: The sun is $8.5\\times10^3$ pc away from the center of the MW</i>).\n",
    "\n",
    "**1.2** Write a function which takes $x$ as an argument and returns this distance\n",
    "\n",
    "**1.3** Write functions which calculate the DM density due to the MW and M31 as a function of their radius $r$ (*Hint: this could be a single function if it took $\\rho_0$ and $r_s$ as inputs*).\n",
    "\n",
    "**1.4** Finally, use these to write a python function which takes $x$ as an input and returns the combined DM density from the MW and M31. Plot the result.\n",
    "\n"
   ]
  },
  {
   "cell_type": "code",
   "execution_count": 301,
   "id": "67f09a84-8dd4-43ef-b7d9-1db2170279df",
   "metadata": {},
   "outputs": [
    {
     "data": {
      "image/png": "[encoded data removed]",
      "text/plain": [
       "<Figure size 432x288 with 1 Axes>"
      ]
     },
     "metadata": {
      "needs_background": "light"
     },
     "output_type": "display_data"
    }
   ],
   "source": [
    "plt.figure()\n",
    "plt.ylabel(r\"$\\rho(x)$ [$M_{\\odot}$ pc$^{-3}$]\");\n",
    "plt.xlabel(r\"$x$\");"
   ]
  },
  {
   "cell_type": "markdown",
   "id": "c195d080-1eab-4ed3-9155-9f70d97e3199",
   "metadata": {},
   "source": [
    "## 2) Differential detection rate\n",
    "\n",
    "Microlensing events occur when an object passes through a microlensing \"tube\" of radius $u_{T}R_E(x)$ where $R_E$ is the Einstein radius given by\n",
    "\n",
    "\\begin{equation}\n",
    "    R_E(x) = 2\\left[\\frac{GMx(1-x)D_S}{c^2}\\right]^{1/2},\n",
    "\\end{equation}\n",
    "\n",
    "where $x=D_L/D_S$ in which $D_L$ is the distance to the lends and $D_S$ is the distance to the source.\n",
    "\n",
    "The differential detection rate for light produced by point sources and lensed by point masses $M$ is given by\n",
    "\n",
    "\\begin{equation}\n",
    "    \\frac{d\\Gamma}{d\\hat{t}} = \\frac{32 D_s u_T^4}{\\hat{t}^4 v_c^2}\\frac{1}{M} \\int^{u_T}_0\\rho(x) R_E^4(x) e^{-Q(x)} \\mathrm{d}x,\n",
    "\\end{equation}\n",
    "\n",
    "where $\\hat{t}$ is the time taken to cross the Einstein diameter, $L$ is the exposure, $v_c = 220$ km s$^{-1}$ is the local circular speed and \n",
    "\n",
    "\\begin{equation}\n",
    "    Q(x) = \\frac{4 R_E^2(x)u_T^2}{\\hat{t}^2v_c^2}.\n",
    "\\end{equation}\n",
    "\n",
    "In the <i>geometical approximation</i> $u_T$ = 1.\n",
    "\n",
    "**2.1** Write a function which takes the distance $x$ and lens mass $M_{\\mathrm{pbh}}$ as an input and returns the Einstein radius $R_E$. <i> Hints: It might make the units a little easier if you use $G = 4.30\\times 10^{-3}$ pc$M_{\\odot}^{–1}$⋅(km/s)$^2$. $R_E$ should be at a maximum when $x = 0.5$.\n",
    "\n",
    "**2.2** Write a function which takes $\\hat{t}$ and $M_{\\mathrm{pbh}}$ as inputs and returns the differential detection rate $d\\Gamma / d\\hat{t}$\n",
    "\n",
    "**2.3** Plot $d\\Gamma / d\\hat{t}$ as a function of $\\hat{t}$ in the range $\\hat{t} \\in \\{1, 10^6\\}$s for a few different PBH masses."
   ]
  },
  {
   "cell_type": "code",
   "execution_count": 297,
   "id": "3dfe68c8-2a88-4108-9fec-de3db7e118cc",
   "metadata": {},
   "outputs": [
    {
     "data": {
      "image/png": "[encoded data removed]",
      "text/plain": [
       "<Figure size 432x288 with 1 Axes>"
      ]
     },
     "metadata": {
      "needs_background": "light"
     },
     "output_type": "display_data"
    }
   ],
   "source": [
    "plt.figure()\n",
    "\n",
    "plt.ylabel(r\"$d\\Gamma/d\\hat{t}$ [s$^{-2}$]\");\n",
    "plt.xlabel(\"Crossing time, $\\hat{t}$ [s]\");"
   ]
  },
  {
   "cell_type": "markdown",
   "id": "82fb9d3a-3573-4f83-8655-43150c57b771",
   "metadata": {},
   "source": [
    "## 3) Number of expected events\n",
    "\n",
    "The number of observed events expected is given by\n",
    "\n",
    "\\begin{equation}\n",
    "    N_{\\mathrm{exp}} = E f_{\\mathrm{pbh}}\\int ^{\\infty}_0 \\frac{\\mathrm{d}\\Gamma}{\\mathrm{d}\\hat{t}} \\epsilon(\\hat{t})\\mathrm{d}\\hat{t},\n",
    "\\end{equation}\n",
    "\n",
    "where $E$ is the exposure, $f_{\\mathrm{pbh}}$ is the fraction of dark matter contained within PBHs and $\\epsilon(\\hat{t})$ is the probability that an event with a duration $\\hat{t}$ is detected. For the HSC survey, $E \\sim 9.5 \\times 10^4$ star years.\n",
    "\n",
    "We can approximate the sensitivity of the HSC survey as:\n",
    "\n",
    "\\begin{equation}\n",
    "    \\epsilon(\\hat{t}) =\n",
    "    \\begin{cases} 0.5 &\\mbox{if } 180\\text{s} < \\hat{t} < 10800\\text{s} \\\\\n",
    "                       0  &\\mbox{otherwise}.\n",
    "    \\end{cases}\n",
    "\\end{equation}\n",
    "\n",
    "**3.1** Write a function that takes $M$ as an input and returns $N_{\\mathrm{exp}}$ assuming $f_{\\mathrm{pbh}} = 1$\n",
    "\n",
    "**3.2** Hence plot $N_{\\mathrm{exp}}$ as a function of $M$ for $f_{\\mathrm{pbh}} = 1$ "
   ]
  },
  {
   "cell_type": "code",
   "execution_count": 298,
   "id": "c2640172-7a1d-4e99-a596-7f4b3d516e9a",
   "metadata": {},
   "outputs": [
    {
     "data": {
      "image/png": "[encoded data removed]",
      "text/plain": [
       "<Figure size 432x288 with 1 Axes>"
      ]
     },
     "metadata": {
      "needs_background": "light"
     },
     "output_type": "display_data"
    }
   ],
   "source": [
    "\n",
    "plt.figure()\n",
    "plt.ylabel(\"Expected events, $N_{\\mathrm{exp}}$\");\n",
    "plt.xlabel(\"Mass, $M_{\\mathrm{pbh}}$ [$M_{\\odot}$]\");"
   ]
  },
  {
   "cell_type": "markdown",
   "id": "1e947823-baa8-41e8-b0cb-8d12e5ac77aa",
   "metadata": {},
   "source": [
    "## 4) Constraints \n",
    "\n",
    "Recall that, in the absense of any events, we find the 95% confidence interval upper limit by finding $f_{pbh}$ such that $N_{\\mathrm{exp}} = 3$. We can therefore simply calculate this interval as\n",
    "\n",
    "\\begin{equation}\n",
    "    f_{\\mathrm{pbh}}^{95\\%} = \\frac{3}{ N_{\\mathrm{exp}}(f_{\\mathrm{pbh}}=1) }\n",
    "\\end{equation}\n",
    "\n",
    "**4.1** Hence calculate and plot the constaint from the HSC survey at the 95% confidence level $f_{\\mathrm{pbh}}^{95\\%}$\n",
    "\n",
    "## 5) Wave effects\n",
    "\n",
    "For very small masses, the Schwarzchild radius of the PBH is smaller than the typical wavelength of the observed light. This leads to suppression in the magnification which prevents us from being able to see these low mass objects. \n",
    "\n",
    "The Schwarzschild radius is given by\n",
    "\\begin{equation}\n",
    "    r_{\\mathrm{Sch}} = \\frac{2 G M}{c^2}.\n",
    "\\end{equation}\n",
    "\n",
    "HSC measures light at a wavelength of around 6000Å. We can calculate a lower-limit on the HSC sensitivity by finding the PBH mass with a Schwarzschild radius equal to this value.\n",
    "\n"
   ]
  },
  {
   "cell_type": "code",
   "execution_count": 299,
   "id": "a7db76ec-e13e-4159-8cc0-09c9b62c89fb",
   "metadata": {},
   "outputs": [
    {
     "data": {
      "image/png": "[encoded data removed]",
      "text/plain": [
       "<Figure size 432x288 with 1 Axes>"
      ]
     },
     "metadata": {
      "needs_background": "light"
     },
     "output_type": "display_data"
    }
   ],
   "source": [
    "plt.figure()\n",
    "\n",
    "plt.ylabel(\"Mass fraction, $f_{pbh}$\");\n",
    "plt.xlabel(\"Mass, $M_{pbh}$ [$M_{\\odot}$]\");"
   ]
  }
 ],
 "metadata": {
  "kernelspec": {
   "display_name": "Python 3",
   "language": "python",
   "name": "python3"
  },
  "language_info": {
   "codemirror_mode": {
    "name": "ipython",
    "version": 3
   },
   "file_extension": ".py",
   "mimetype": "text/x-python",
   "name": "python",
   "nbconvert_exporter": "python",
   "pygments_lexer": "ipython3",
   "version": "3.8.8"
  }
 },
 "nbformat": 4,
 "nbformat_minor": 5
}
